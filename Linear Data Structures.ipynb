{
 "cells": [
  {
   "cell_type": "code",
   "execution_count": 2,
   "id": "c13c7323",
   "metadata": {},
   "outputs": [
    {
     "name": "stdout",
     "output_type": "stream",
     "text": [
      "Original linked list:\n",
      "1 2 -3 4 -5 \n",
      "Linked list after deleting zero sum nodes:\n",
      "1 2 4 -5 "
     ]
    }
   ],
   "source": [
    "class Node:\n",
    "    def __init__(self, data):\n",
    "        self.data = data\n",
    "        self.next = None\n",
    "\n",
    "def delete_zero_sum_nodes(head):\n",
    "    current = head\n",
    "    previous = None\n",
    "    sum = 0\n",
    "    while current:\n",
    "        sum += current.data\n",
    "        if sum == 0:\n",
    "            if previous is None:\n",
    "                head = current.next\n",
    "            else:\n",
    "                previous.next = current.next\n",
    "        else:\n",
    "            previous = current\n",
    "        current = current.next\n",
    "    return head\n",
    "\n",
    "def main():\n",
    "    head = Node(1)\n",
    "    head.next = Node(2)\n",
    "    head.next.next = Node(-3)\n",
    "    head.next.next.next = Node(4)\n",
    "    head.next.next.next.next = Node(-5)\n",
    "    print(\"Original linked list:\")\n",
    "    print_linked_list(head)\n",
    "    head = delete_zero_sum_nodes(head)\n",
    "    print(\"\\nLinked list after deleting zero sum nodes:\")\n",
    "    print_linked_list(head)\n",
    "\n",
    "def print_linked_list(head):\n",
    "    current = head\n",
    "    while current:\n",
    "        print(current.data, end=\" \")\n",
    "        current = current.next\n",
    "\n",
    "main()\n"
   ]
  },
  {
   "cell_type": "code",
   "execution_count": 3,
   "id": "9bd8e74b",
   "metadata": {},
   "outputs": [
    {
     "name": "stdout",
     "output_type": "stream",
     "text": [
      "Original linked list:\n",
      "1 2 3 4 5 6 \n",
      "Linked list after reversing in groups of 2:\n",
      "2 1 4 3 6 5 "
     ]
    }
   ],
   "source": [
    "class Node:\n",
    "    def __init__(self, data):\n",
    "        self.data = data\n",
    "        self.next = None\n",
    "\n",
    "def reverse_linked_list_in_groups(head, k):\n",
    "    current = head\n",
    "    previous = None\n",
    "    next_node = None\n",
    "    count = 0\n",
    "    while current and count < k:\n",
    "        next_node = current.next\n",
    "        current.next = previous\n",
    "        previous = current\n",
    "        current = next_node\n",
    "        count += 1\n",
    "\n",
    "    if next_node:\n",
    "        head.next = reverse_linked_list_in_groups(next_node, k)\n",
    "\n",
    "    return previous\n",
    "\n",
    "def main():\n",
    "    head = Node(1)\n",
    "    head.next = Node(2)\n",
    "    head.next.next = Node(3)\n",
    "    head.next.next.next = Node(4)\n",
    "    head.next.next.next.next = Node(5)\n",
    "    head.next.next.next.next.next = Node(6)\n",
    "    print(\"Original linked list:\")\n",
    "    print_linked_list(head)\n",
    "    head = reverse_linked_list_in_groups(head, 2)\n",
    "    print(\"\\nLinked list after reversing in groups of 2:\")\n",
    "    print_linked_list(head)\n",
    "\n",
    "def print_linked_list(head):\n",
    "    current = head\n",
    "    while current:\n",
    "        print(current.data, end=\" \")\n",
    "        current = current.next\n",
    "\n",
    "main()\n"
   ]
  },
  {
   "cell_type": "code",
   "execution_count": 4,
   "id": "0282f11b",
   "metadata": {},
   "outputs": [
    {
     "name": "stdout",
     "output_type": "stream",
     "text": [
      "Original linked lists:\n",
      "1 2 3 4 5 6 7 8 \n",
      "Merged linked list:\n",
      "1 5 2 6 3 7 4 8 "
     ]
    }
   ],
   "source": [
    "class Node:\n",
    "    def __init__(self, data):\n",
    "        self.data = data\n",
    "        self.next = None\n",
    "\n",
    "def merge_linked_lists(head1, head2):\n",
    "    merged_head = None\n",
    "    current1 = head1\n",
    "    current2 = head2\n",
    "    current_merged = None\n",
    "    while current1 and current2:\n",
    "        if merged_head is None:\n",
    "            merged_head = Node(current1.data)\n",
    "            current_merged = merged_head\n",
    "        else:\n",
    "            current_merged.next = Node(current1.data)\n",
    "            current_merged = current_merged.next\n",
    "\n",
    "        current1 = current1.next\n",
    "        if current2:\n",
    "            current_merged.next = Node(current2.data)\n",
    "            current_merged = current_merged.next\n",
    "        current2 = current2.next\n",
    "\n",
    "    if current1:\n",
    "        current_merged.next = current1\n",
    "    elif current2:\n",
    "        current_merged.next = current2\n",
    "\n",
    "    return merged_head\n",
    "\n",
    "def main():\n",
    "    head1 = Node(1)\n",
    "    head1.next = Node(2)\n",
    "    head1.next.next = Node(3)\n",
    "    head1.next.next.next = Node(4)\n",
    "\n",
    "    head2 = Node(5)\n",
    "    head2.next = Node(6)\n",
    "    head2.next.next = Node(7)\n",
    "    head2.next.next.next = Node(8)\n",
    "\n",
    "    print(\"Original linked lists:\")\n",
    "    print_linked_list(head1)\n",
    "    print_linked_list(head2)\n",
    "\n",
    "    merged_head = merge_linked_lists(head1, head2)\n",
    "    print(\"\\nMerged linked list:\")\n",
    "    print_linked_list(merged_head)\n",
    "\n",
    "def print_linked_list(head):\n",
    "    current = head\n",
    "    while current:\n",
    "        print(current.data, end=\" \")\n",
    "        current = current.next\n",
    "\n",
    "main()\n"
   ]
  },
  {
   "cell_type": "code",
   "execution_count": 5,
   "id": "f40e2757",
   "metadata": {},
   "outputs": [
    {
     "name": "stdout",
     "output_type": "stream",
     "text": [
      "The number of pairs with sum 10 is 3\n"
     ]
    }
   ],
   "source": [
    "class Node:\n",
    "    def __init__(self, data):\n",
    "        self.data = data\n",
    "        self.next = None\n",
    "\n",
    "def merge_linked_lists(head1, head2):\n",
    "    merged_head = None\n",
    "    current1 = head1\n",
    "def count_pairs_with_sum(array, sum):\n",
    "    count = 0\n",
    "    for i in range(len(array)):\n",
    "        for j in range(i + 1, len(array)):\n",
    "            if array[i] + array[j] == sum:\n",
    "                count += 1\n",
    "    return count\n",
    "\n",
    "def main():\n",
    "    array = [1, 2, 3, 4, 5, 6, 7, 8]\n",
    "    sum = 10\n",
    "    count = count_pairs_with_sum(array, sum)\n",
    "    print(\"The number of pairs with sum {} is {}\".format(sum, count))\n",
    "\n",
    "main()\n"
   ]
  },
  {
   "cell_type": "code",
   "execution_count": 6,
   "id": "8167c779",
   "metadata": {},
   "outputs": [
    {
     "name": "stdout",
     "output_type": "stream",
     "text": [
      "The duplicates in the array are [2, 3]\n"
     ]
    }
   ],
   "source": [
    "def find_duplicates(array):\n",
    "    seen = set()\n",
    "    duplicates = []\n",
    "    for element in array:\n",
    "        if element in seen:\n",
    "            duplicates.append(element)\n",
    "        else:\n",
    "            seen.add(element)\n",
    "    return duplicates\n",
    "\n",
    "def main():\n",
    "    array = [1, 2, 3, 4, 5, 2, 3]\n",
    "    duplicates = find_duplicates(array)\n",
    "    print(\"The duplicates in the array are {}\".format(duplicates))\n",
    "\n",
    "main()\n"
   ]
  },
  {
   "cell_type": "code",
   "execution_count": 7,
   "id": "bb64e94f",
   "metadata": {},
   "outputs": [
    {
     "name": "stdout",
     "output_type": "stream",
     "text": [
      "The kth largest number is 8 and the kth smallest number is 1\n"
     ]
    }
   ],
   "source": [
    "import heapq\n",
    "\n",
    "def find_kth_largest_and_smallest(array, k):\n",
    "    largest_heap = []\n",
    "    smallest_heap = []\n",
    "    for element in array:\n",
    "        heapq.heappush(largest_heap, -element)\n",
    "        heapq.heappush(smallest_heap, element)\n",
    "\n",
    "    if k <= len(largest_heap):\n",
    "        return -heapq.heappop(largest_heap), heapq.heappop(smallest_heap)\n",
    "    else:\n",
    "        return heapq.heappop(smallest_heap), -heapq.heappop(largest_heap)\n",
    "\n",
    "def main():\n",
    "    array = [1, 2, 3, 4, 5, 6, 7, 8]\n",
    "    k = 3\n",
    "    largest, smallest = find_kth_largest_and_smallest(array, k)\n",
    "    print(\"The kth largest number is {} and the kth smallest number is {}\".format(largest, smallest))\n",
    "\n",
    "main()\n"
   ]
  },
  {
   "cell_type": "code",
   "execution_count": 8,
   "id": "97518cd4",
   "metadata": {},
   "outputs": [
    {
     "name": "stdout",
     "output_type": "stream",
     "text": [
      "The array after moving all negative elements to one side is [-3, -5, -8, 4, 2, 6, 7, 1]\n"
     ]
    }
   ],
   "source": [
    "def move_negative_elements(array):\n",
    "    i = 0\n",
    "    j = 0\n",
    "    while i < len(array):\n",
    "        if array[i] < 0:\n",
    "            array[i], array[j] = array[j], array[i]\n",
    "            j += 1\n",
    "        i += 1\n",
    "    return array\n",
    "\n",
    "def main():\n",
    "    array = [1, 2, -3, 4, -5, 6, 7, -8]\n",
    "    new_array = move_negative_elements(array)\n",
    "    print(\"The array after moving all negative elements to one side is {}\".format(new_array))\n",
    "\n",
    "main()\n"
   ]
  },
  {
   "cell_type": "code",
   "execution_count": 9,
   "id": "84b329cd",
   "metadata": {},
   "outputs": [
    {
     "name": "stdout",
     "output_type": "stream",
     "text": [
      "The reversed string is olleh\n"
     ]
    }
   ],
   "source": [
    "def reverse_string(string):\n",
    "    stack = []\n",
    "    for character in string:\n",
    "        stack.append(character)\n",
    "    reversed_string = \"\"\n",
    "    while stack:\n",
    "        reversed_string += stack.pop()\n",
    "    return reversed_string\n",
    "\n",
    "def main():\n",
    "    string = \"hello\"\n",
    "    reversed_string = reverse_string(string)\n",
    "    print(\"The reversed string is {}\".format(reversed_string))\n",
    "\n",
    "main()\n"
   ]
  },
  {
   "cell_type": "code",
   "execution_count": 10,
   "id": "7980c604",
   "metadata": {},
   "outputs": [
    {
     "name": "stdout",
     "output_type": "stream",
     "text": [
      "The result of evaluating the postfix expression is 20\n"
     ]
    }
   ],
   "source": [
    "def evaluate_postfix(expression):\n",
    "    stack = []\n",
    "    for token in expression:\n",
    "        if token.isdigit():\n",
    "            stack.append(int(token))\n",
    "        else:\n",
    "            if len(stack) >= 2:\n",
    "                b = stack.pop()\n",
    "                a = stack.pop()\n",
    "                result = eval(f\"{a} {token} {b}\")\n",
    "                stack.append(result)\n",
    "            else:\n",
    "                raise IndexError(\"The stack does not have enough operands\")\n",
    "    return stack.pop()\n",
    "\n",
    "def main():\n",
    "    expression = \"2 3 + 4 *\"\n",
    "    tokens = expression.split()\n",
    "    result = evaluate_postfix(tokens)\n",
    "    print(\"The result of evaluating the postfix expression is {}\".format(result))\n",
    "\n",
    "main()\n"
   ]
  },
  {
   "cell_type": "code",
   "execution_count": 11,
   "id": "eae479fe",
   "metadata": {},
   "outputs": [
    {
     "name": "stdout",
     "output_type": "stream",
     "text": [
      "1\n",
      "2\n",
      "3\n"
     ]
    }
   ],
   "source": [
    "class Queue:\n",
    "    def __init__(self):\n",
    "        self.stack1 = []\n",
    "        self.stack2 = []\n",
    "\n",
    "    def enqueue(self, item):\n",
    "        self.stack1.append(item)\n",
    "\n",
    "    def dequeue(self):\n",
    "        if not self.stack2:\n",
    "            while self.stack1:\n",
    "                self.stack2.append(self.stack1.pop())\n",
    "        return self.stack2.pop()\n",
    "\n",
    "def main():\n",
    "    queue = Queue()\n",
    "    queue.enqueue(1)\n",
    "    queue.enqueue(2)\n",
    "    queue.enqueue(3)\n",
    "    print(queue.dequeue())\n",
    "    print(queue.dequeue())\n",
    "    print(queue.dequeue())\n",
    "\n",
    "main()\n"
   ]
  },
  {
   "cell_type": "code",
   "execution_count": null,
   "id": "7efe8938",
   "metadata": {},
   "outputs": [],
   "source": []
  }
 ],
 "metadata": {
  "kernelspec": {
   "display_name": "Python 3 (ipykernel)",
   "language": "python",
   "name": "python3"
  },
  "language_info": {
   "codemirror_mode": {
    "name": "ipython",
    "version": 3
   },
   "file_extension": ".py",
   "mimetype": "text/x-python",
   "name": "python",
   "nbconvert_exporter": "python",
   "pygments_lexer": "ipython3",
   "version": "3.10.9"
  }
 },
 "nbformat": 4,
 "nbformat_minor": 5
}
